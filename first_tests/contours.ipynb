{
 "cells": [
  {
   "cell_type": "code",
   "execution_count": 1,
   "id": "c208a19e",
   "metadata": {},
   "outputs": [],
   "source": [
    "import cv2\n",
    "import numpy as np\n",
    "import matplotlib.pyplot as plt\n",
    "import os\n",
    "from PIL import Image"
   ]
  },
  {
   "cell_type": "code",
   "execution_count": 2,
   "id": "dd261ec6",
   "metadata": {},
   "outputs": [],
   "source": [
    "def clear_folder(folder_path):\n",
    "    if os.path.exists(folder_path):\n",
    "        for file_name in os.listdir(folder_path):\n",
    "            file_path = os.path.join(folder_path, file_name)\n",
    "            try:\n",
    "                if os.path.isfile(file_path):\n",
    "                    os.unlink(file_path)\n",
    "                elif os.path.isdir(file_path):\n",
    "                    os.rmdir(file_path)\n",
    "            except Exception as e:\n",
    "                print(f\"Nie udało się usunąć pliku/folderu {file_path}: {e}\")\n",
    "    else:\n",
    "        print(f\"Ścieżka {folder_path} nie istnieje.\")"
   ]
  },
  {
   "cell_type": "markdown",
   "id": "bbb381a3",
   "metadata": {},
   "source": [
    "# Create contours-only datasets"
   ]
  },
  {
   "cell_type": "code",
   "execution_count": 3,
   "id": "aca3c71b",
   "metadata": {},
   "outputs": [],
   "source": [
    "def contour_only_images(input_folder, output_folder):\n",
    "    if not os.path.exists(output_folder):\n",
    "        os.makedirs(output_folder)\n",
    "\n",
    "    for filename in os.listdir(input_folder):\n",
    "        if filename.endswith(('.jpg', '.jpeg', '.png')):\n",
    "\n",
    "            image_path = os.path.join(input_folder, filename)\n",
    "\n",
    "\n",
    "            image = cv2.imread(image_path)\n",
    "            img_gray = cv2.cvtColor(image, cv2.COLOR_BGR2GRAY)\n",
    "            ret, thresh = cv2.threshold(img_gray, 150, 255, cv2.THRESH_BINARY)\n",
    "            contours, hierarchy = cv2.findContours(image=thresh, mode=cv2.RETR_TREE, method=cv2.CHAIN_APPROX_NONE)\n",
    "            contour_image = np.ones_like(thresh) * 255\n",
    "            cv2.drawContours(image=contour_image, contours=contours, contourIdx=-1, color=0, thickness=2, lineType=cv2.LINE_AA)\n",
    "            output_filename = f\"{filename}\"\n",
    "            output_path = os.path.join(output_folder, output_filename)\n",
    "            cv2.imwrite(output_path, contour_image)\n",
    "\n",
    "\n",
    "\n",
    "input_folder = \"../data/rockpaperscissors/augmented_data/rock\"\n",
    "output_folder = \"../data/rockpaperscissors/augmented_data/rock-contours-only\"\n",
    "clear_folder(output_folder)\n",
    "contour_only_images(input_folder, output_folder)\n",
    "\n",
    "input_folder = \"../data/rockpaperscissors/augmented_data/paper\"\n",
    "output_folder = \"../data/rockpaperscissors/augmented_data/paper-contours-only\"\n",
    "clear_folder(output_folder)\n",
    "contour_only_images(input_folder, output_folder)\n",
    "\n",
    "input_folder = \"../data/rockpaperscissors/augmented_data/scissors\"\n",
    "output_folder = \"../data/rockpaperscissors/augmented_data/scissors-contours-only\"\n",
    "clear_folder(output_folder)\n",
    "contour_only_images(input_folder, output_folder)"
   ]
  },
  {
   "cell_type": "markdown",
   "id": "acbbabb7",
   "metadata": {},
   "source": [
    "# Create thresh-only datasets"
   ]
  },
  {
   "cell_type": "code",
   "execution_count": 4,
   "id": "8b689179",
   "metadata": {},
   "outputs": [],
   "source": [
    "def thresh_only_images(input_folder, output_folder):\n",
    "    if not os.path.exists(output_folder):\n",
    "        os.makedirs(output_folder)\n",
    "\n",
    "    for filename in os.listdir(input_folder):\n",
    "        if filename.endswith(('.jpg', '.jpeg', '.png')):\n",
    "\n",
    "            image_path = os.path.join(input_folder, filename)\n",
    "\n",
    "\n",
    "            image = cv2.imread(image_path)\n",
    "            img_gray = cv2.cvtColor(image, cv2.COLOR_BGR2GRAY)\n",
    "            ret, thresh = cv2.threshold(img_gray, 150, 255, cv2.THRESH_BINARY)\n",
    "            output_filename = f\"{filename}\"\n",
    "            output_path = os.path.join(output_folder, output_filename)\n",
    "            cv2.imwrite(output_path, thresh)\n",
    "\n",
    "\n",
    "\n",
    "\n",
    "input_folder = \"../data/rockpaperscissors/augmented_data/rock\"\n",
    "output_folder = \"../data/rockpaperscissors/augmented_data/rock-thresh-only\"\n",
    "clear_folder(output_folder)\n",
    "thresh_only_images(input_folder, output_folder)\n",
    "\n",
    "input_folder = \"../data/rockpaperscissors/augmented_data/paper\"\n",
    "output_folder = \"../data/rockpaperscissors/augmented_data/paper-thresh-only\"\n",
    "clear_folder(output_folder)\n",
    "thresh_only_images(input_folder, output_folder)\n",
    "\n",
    "input_folder = \"../data/rockpaperscissors/augmented_data/scissors\"\n",
    "output_folder = \"../data/rockpaperscissors/augmented_data/scissors-thresh-only\"\n",
    "clear_folder(output_folder)\n",
    "thresh_only_images(input_folder, output_folder)"
   ]
  }
 ],
 "metadata": {
  "kernelspec": {
   "display_name": "Python 3 (ipykernel)",
   "language": "python",
   "name": "python3"
  },
  "language_info": {
   "codemirror_mode": {
    "name": "ipython",
    "version": 3
   },
   "file_extension": ".py",
   "mimetype": "text/x-python",
   "name": "python",
   "nbconvert_exporter": "python",
   "pygments_lexer": "ipython3",
   "version": "3.11.7"
  }
 },
 "nbformat": 4,
 "nbformat_minor": 5
}
